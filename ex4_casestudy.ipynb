{
  "nbformat": 4,
  "nbformat_minor": 0,
  "metadata": {
    "colab": {
      "provenance": []
    },
    "kernelspec": {
      "name": "python3",
      "display_name": "Python 3"
    },
    "language_info": {
      "name": "python"
    }
  },
  "cells": [
    {
      "cell_type": "code",
      "execution_count": 11,
      "metadata": {
        "colab": {
          "base_uri": "https://localhost:8080/"
        },
        "id": "MaY9P-Zk6XUa",
        "outputId": "a2df2c80-b3d9-4df4-d703-86643acfd0e9"
      },
      "outputs": [
        {
          "output_type": "stream",
          "name": "stdout",
          "text": [
            "Drive already mounted at /content/drive; to attempt to forcibly remount, call drive.mount(\"/content/drive\", force_remount=True).\n"
          ]
        }
      ],
      "source": [
        "import pandas as pd\n",
        "import numpy as np\n",
        "import random\n",
        "\n",
        "# Generate random data for the dataset\n",
        "num_records = 120  # You can change this number as needed\n",
        "timestamps = pd.date_range(start=\"2023-01-01 00:00:00\", periods=num_records, freq=\"15min\")\n",
        "locations = random.choices([\"Intersection A\", \"Intersection B\", \"Intersection C\", \"Intersection D\"], k=num_records)\n",
        "vehicle_counts = np.random.randint(50, 300, size=num_records)\n",
        "average_speeds = np.random.uniform(10, 60, size=num_records)\n",
        "congestion_levels = random.choices([\"Low\", \"Moderate\", \"High\"], k=num_records)\n",
        "weather_conditions = random.choices([\"Sunny\", \"Rainy\", \"Foggy\"], k=num_records)\n",
        "temperatures = np.random.uniform(10, 30, size=num_records)\n",
        "humidity = np.random.uniform(30, 80, size=num_records)\n",
        "air_quality_index = np.random.randint(0, 120, size=num_records)\n",
        "traffic_signal_status = random.choices([\"Green\", \"Yellow\", \"Red\"], k=num_records)\n",
        "signal_timing_plan = random.choices([\"Plan A\", \"Plan B\"], k=num_records)\n",
        "road_type = random.choices([\"Urban Street\", \"Highway\", \"Rural Road\"], k=num_records)\n",
        "accident_count = np.random.randint(0, 5, size=num_records)\n",
        "road_surface_condition = random.choices([\"Dry\", \"Wet\", \"Snowy\"], k=num_records)\n",
        "visibility = random.choices([\"Good\", \"Moderate\", \"Poor\"], k=num_records)\n",
        "pedestrian_count = np.random.randint(0, 20, size=num_records)\n",
        "cyclist_count = np.random.randint(0, 10, size=num_records)\n",
        "public_transportation = random.choices([\"Yes\", \"No\"], k=num_records)\n",
        "vehicle_type = random.choices([\"Car\", \"Truck\", \"Bus\", \"Motorcycle\"], k=num_records)\n",
        "noise_level = random.choices([\"Low\", \"Moderate\", \"High\"], k=num_records)\n",
        "\n",
        "# Create the DataFrame\n",
        "data = {\n",
        "    \"Timestamps\": timestamps,\n",
        "    \"Locations\": locations,\n",
        "    \"VehicleCounts\": vehicle_counts,\n",
        "    \"AverageSpeeds\": average_speeds,\n",
        "    \"CongestionLevels\": congestion_levels,\n",
        "    \"WeatherConditions\": weather_conditions,\n",
        "    \"Temperatures\": temperatures,\n",
        "    \"Humidity\": humidity,\n",
        "    \"AirQualityIndex\": air_quality_index,\n",
        "    \"TrafficSignalStatus\": traffic_signal_status,\n",
        "    \"SignalTimingPlan\": signal_timing_plan,\n",
        "    \"RoadType\": road_type,\n",
        "    \"AccidentCount\": accident_count,\n",
        "    \"RoadSurfaceCondition\": road_surface_condition,\n",
        "    \"Visibility\": visibility,\n",
        "    \"PedestrianCount\": pedestrian_count,\n",
        "    \"CyclistCount\": cyclist_count,\n",
        "    \"PublicTransportation\": public_transportation,\n",
        "    \"VehicleType\": vehicle_type,\n",
        "    \"NoiseLevel\": noise_level,\n",
        "    \"RoadCapacity\": np.random.randint(500, 1000, size=num_records),\n",
        "}\n",
        "\n",
        "# Create a DataFrame\n",
        "df = pd.DataFrame(data)\n",
        "\n",
        "# Save the DataFrame to a CSV file\n",
        "df.to_csv(\"Application name_Dataset.csv\", index=False)\n",
        "\n",
        "from google.colab import drive\n",
        "drive.mount('/content/drive')\n",
        "df.to_csv('/content/drive/My Drive/Application name_Dataset.csv', index=False)\n",
        "\n"
      ]
    }
  ]
}